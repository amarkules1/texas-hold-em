{
 "cells": [
  {
   "cell_type": "code",
   "execution_count": 12,
   "metadata": {},
   "outputs": [],
   "source": [
    "import texas_hold_em.game as game\n",
    "import texas_hold_em.player as player\n",
    "import texas_hold_em.card as card\n"
   ]
  },
  {
   "cell_type": "code",
   "execution_count": 13,
   "metadata": {},
   "outputs": [],
   "source": [
    "game1 = game.Game(2)\n",
    "game1.players = [player.SimplePlayer(0), player.SimplePlayer(1)]\n",
    "game1.deal()\n",
    "game1.get_bets()\n",
    "game1.flop()\n",
    "game1.get_bets()\n",
    "game1.turn()\n",
    "game1.get_bets()\n",
    "game1.river()\n",
    "game1.get_bets()\n",
    "winners = game1.determine_round_winners()"
   ]
  },
  {
   "cell_type": "code",
   "execution_count": 14,
   "metadata": {},
   "outputs": [],
   "source": [
    "# player_1_card_1\n",
    "# player_1_card_2\n",
    "# player_2_card_1\n",
    "# player_2_card_2\n",
    "# flop_1\n",
    "# flop_2\n",
    "# flop_3\n",
    "# turn\n",
    "# river\n",
    "# player_1_hand\n",
    "# player_2_hand\n",
    "# winner\n",
    "import pandas as pd\n",
    "\n",
    "df = pd.DataFrame(data={\n",
    "  \"player_1_card_1\": [game1.players[0].hand_of_two.cards[0].__str__()], \n",
    "    \"player_1_card_2\": [game1.players[0].hand_of_two.cards[1].__str__()],\n",
    "    \"player_2_card_1\": [game1.players[1].hand_of_two.cards[0].__str__()],\n",
    "    \"player_2_card_2\": [game1.players[1].hand_of_two.cards[1].__str__()],\n",
    "    \"flop_1\": [game1.community_cards[0].__str__()],\n",
    "    \"flop_2\": [game1.community_cards[1].__str__()],\n",
    "    \"flop_3\": [game1.community_cards[2].__str__()],\n",
    "    \"turn\": [game1.community_cards[3].__str__()],\n",
    "    \"river\": [game1.community_cards[4].__str__()],\n",
    "    \"winner\": [\"player_{n}\".format(n=winners[0].position + 1) if len(winners) == 1 else \"split\"]\n",
    "})"
   ]
  },
  {
   "cell_type": "code",
   "execution_count": 16,
   "metadata": {},
   "outputs": [
    {
     "data": {
      "text/plain": [
       "(314707, 10)"
      ]
     },
     "execution_count": 16,
     "metadata": {},
     "output_type": "execute_result"
    }
   ],
   "source": [
    "df.shape"
   ]
  },
  {
   "cell_type": "code",
   "execution_count": 15,
   "metadata": {},
   "outputs": [
    {
     "ename": "KeyboardInterrupt",
     "evalue": "",
     "output_type": "error",
     "traceback": [
      "\u001b[1;31m---------------------------------------------------------------------------\u001b[0m",
      "\u001b[1;31mKeyboardInterrupt\u001b[0m                         Traceback (most recent call last)",
      "Cell \u001b[1;32mIn[15], line 13\u001b[0m\n\u001b[0;32m     11\u001b[0m game1\u001b[39m.\u001b[39mget_bets()\n\u001b[0;32m     12\u001b[0m winners \u001b[39m=\u001b[39m game1\u001b[39m.\u001b[39mdetermine_round_winners()\n\u001b[1;32m---> 13\u001b[0m df \u001b[39m=\u001b[39m pd\u001b[39m.\u001b[39;49mconcat([df, pd\u001b[39m.\u001b[39;49mDataFrame(data\u001b[39m=\u001b[39;49m{\n\u001b[0;32m     14\u001b[0m     \u001b[39m\"\u001b[39;49m\u001b[39mplayer_1_card_1\u001b[39;49m\u001b[39m\"\u001b[39;49m: [game1\u001b[39m.\u001b[39;49mplayers[\u001b[39m0\u001b[39;49m]\u001b[39m.\u001b[39;49mhand_of_two\u001b[39m.\u001b[39;49mcards[\u001b[39m0\u001b[39;49m]\u001b[39m.\u001b[39;49m\u001b[39m__str__\u001b[39;49m()], \n\u001b[0;32m     15\u001b[0m     \u001b[39m\"\u001b[39;49m\u001b[39mplayer_1_card_2\u001b[39;49m\u001b[39m\"\u001b[39;49m: [game1\u001b[39m.\u001b[39;49mplayers[\u001b[39m0\u001b[39;49m]\u001b[39m.\u001b[39;49mhand_of_two\u001b[39m.\u001b[39;49mcards[\u001b[39m1\u001b[39;49m]\u001b[39m.\u001b[39;49m\u001b[39m__str__\u001b[39;49m()],\n\u001b[0;32m     16\u001b[0m     \u001b[39m\"\u001b[39;49m\u001b[39mplayer_2_card_1\u001b[39;49m\u001b[39m\"\u001b[39;49m: [game1\u001b[39m.\u001b[39;49mplayers[\u001b[39m1\u001b[39;49m]\u001b[39m.\u001b[39;49mhand_of_two\u001b[39m.\u001b[39;49mcards[\u001b[39m0\u001b[39;49m]\u001b[39m.\u001b[39;49m\u001b[39m__str__\u001b[39;49m()],\n\u001b[0;32m     17\u001b[0m     \u001b[39m\"\u001b[39;49m\u001b[39mplayer_2_card_2\u001b[39;49m\u001b[39m\"\u001b[39;49m: [game1\u001b[39m.\u001b[39;49mplayers[\u001b[39m1\u001b[39;49m]\u001b[39m.\u001b[39;49mhand_of_two\u001b[39m.\u001b[39;49mcards[\u001b[39m1\u001b[39;49m]\u001b[39m.\u001b[39;49m\u001b[39m__str__\u001b[39;49m()],\n\u001b[0;32m     18\u001b[0m     \u001b[39m\"\u001b[39;49m\u001b[39mflop_1\u001b[39;49m\u001b[39m\"\u001b[39;49m: [game1\u001b[39m.\u001b[39;49mcommunity_cards[\u001b[39m0\u001b[39;49m]\u001b[39m.\u001b[39;49m\u001b[39m__str__\u001b[39;49m()],\n\u001b[0;32m     19\u001b[0m     \u001b[39m\"\u001b[39;49m\u001b[39mflop_2\u001b[39;49m\u001b[39m\"\u001b[39;49m: [game1\u001b[39m.\u001b[39;49mcommunity_cards[\u001b[39m1\u001b[39;49m]\u001b[39m.\u001b[39;49m\u001b[39m__str__\u001b[39;49m()],\n\u001b[0;32m     20\u001b[0m     \u001b[39m\"\u001b[39;49m\u001b[39mflop_3\u001b[39;49m\u001b[39m\"\u001b[39;49m: [game1\u001b[39m.\u001b[39;49mcommunity_cards[\u001b[39m2\u001b[39;49m]\u001b[39m.\u001b[39;49m\u001b[39m__str__\u001b[39;49m()],\n\u001b[0;32m     21\u001b[0m     \u001b[39m\"\u001b[39;49m\u001b[39mturn\u001b[39;49m\u001b[39m\"\u001b[39;49m: [game1\u001b[39m.\u001b[39;49mcommunity_cards[\u001b[39m3\u001b[39;49m]\u001b[39m.\u001b[39;49m\u001b[39m__str__\u001b[39;49m()],\n\u001b[0;32m     22\u001b[0m     \u001b[39m\"\u001b[39;49m\u001b[39mriver\u001b[39;49m\u001b[39m\"\u001b[39;49m: [game1\u001b[39m.\u001b[39;49mcommunity_cards[\u001b[39m4\u001b[39;49m]\u001b[39m.\u001b[39;49m\u001b[39m__str__\u001b[39;49m()],\n\u001b[0;32m     23\u001b[0m     \u001b[39m\"\u001b[39;49m\u001b[39mwinner\u001b[39;49m\u001b[39m\"\u001b[39;49m: [\u001b[39m\"\u001b[39;49m\u001b[39mplayer_\u001b[39;49m\u001b[39m{n}\u001b[39;49;00m\u001b[39m\"\u001b[39;49m\u001b[39m.\u001b[39;49mformat(n\u001b[39m=\u001b[39;49mwinners[\u001b[39m0\u001b[39;49m]\u001b[39m.\u001b[39;49mposition \u001b[39m+\u001b[39;49m \u001b[39m1\u001b[39;49m) \u001b[39mif\u001b[39;49;00m \u001b[39mlen\u001b[39;49m(winners) \u001b[39m==\u001b[39;49m \u001b[39m1\u001b[39;49m \u001b[39melse\u001b[39;49;00m \u001b[39m\"\u001b[39;49m\u001b[39msplit\u001b[39;49m\u001b[39m\"\u001b[39;49m]\n\u001b[0;32m     24\u001b[0m })])\n",
      "File \u001b[1;32mc:\\Users\\amarl\\dev\\python\\texas-hold-em\\.venv\\lib\\site-packages\\pandas\\core\\reshape\\concat.py:395\u001b[0m, in \u001b[0;36mconcat\u001b[1;34m(objs, axis, join, ignore_index, keys, levels, names, verify_integrity, sort, copy)\u001b[0m\n\u001b[0;32m    380\u001b[0m     copy \u001b[39m=\u001b[39m \u001b[39mFalse\u001b[39;00m\n\u001b[0;32m    382\u001b[0m op \u001b[39m=\u001b[39m _Concatenator(\n\u001b[0;32m    383\u001b[0m     objs,\n\u001b[0;32m    384\u001b[0m     axis\u001b[39m=\u001b[39maxis,\n\u001b[1;32m   (...)\u001b[0m\n\u001b[0;32m    392\u001b[0m     sort\u001b[39m=\u001b[39msort,\n\u001b[0;32m    393\u001b[0m )\n\u001b[1;32m--> 395\u001b[0m \u001b[39mreturn\u001b[39;00m op\u001b[39m.\u001b[39;49mget_result()\n",
      "File \u001b[1;32mc:\\Users\\amarl\\dev\\python\\texas-hold-em\\.venv\\lib\\site-packages\\pandas\\core\\reshape\\concat.py:684\u001b[0m, in \u001b[0;36m_Concatenator.get_result\u001b[1;34m(self)\u001b[0m\n\u001b[0;32m    680\u001b[0m             indexers[ax] \u001b[39m=\u001b[39m obj_labels\u001b[39m.\u001b[39mget_indexer(new_labels)\n\u001b[0;32m    682\u001b[0m     mgrs_indexers\u001b[39m.\u001b[39mappend((obj\u001b[39m.\u001b[39m_mgr, indexers))\n\u001b[1;32m--> 684\u001b[0m new_data \u001b[39m=\u001b[39m concatenate_managers(\n\u001b[0;32m    685\u001b[0m     mgrs_indexers, \u001b[39mself\u001b[39;49m\u001b[39m.\u001b[39;49mnew_axes, concat_axis\u001b[39m=\u001b[39;49m\u001b[39mself\u001b[39;49m\u001b[39m.\u001b[39;49mbm_axis, copy\u001b[39m=\u001b[39;49m\u001b[39mself\u001b[39;49m\u001b[39m.\u001b[39;49mcopy\n\u001b[0;32m    686\u001b[0m )\n\u001b[0;32m    687\u001b[0m \u001b[39mif\u001b[39;00m \u001b[39mnot\u001b[39;00m \u001b[39mself\u001b[39m\u001b[39m.\u001b[39mcopy \u001b[39mand\u001b[39;00m \u001b[39mnot\u001b[39;00m using_copy_on_write():\n\u001b[0;32m    688\u001b[0m     new_data\u001b[39m.\u001b[39m_consolidate_inplace()\n",
      "File \u001b[1;32mc:\\Users\\amarl\\dev\\python\\texas-hold-em\\.venv\\lib\\site-packages\\pandas\\core\\internals\\concat.py:185\u001b[0m, in \u001b[0;36mconcatenate_managers\u001b[1;34m(mgrs_indexers, axes, concat_axis, copy)\u001b[0m\n\u001b[0;32m    182\u001b[0m     \u001b[39melse\u001b[39;00m:\n\u001b[0;32m    183\u001b[0m         values \u001b[39m=\u001b[39m concat_compat(vals, axis\u001b[39m=\u001b[39m\u001b[39m1\u001b[39m)\n\u001b[1;32m--> 185\u001b[0m     values \u001b[39m=\u001b[39m ensure_wrapped_if_datetimelike(values)\n\u001b[0;32m    187\u001b[0m     fastpath \u001b[39m=\u001b[39m blk\u001b[39m.\u001b[39mvalues\u001b[39m.\u001b[39mdtype \u001b[39m==\u001b[39m values\u001b[39m.\u001b[39mdtype\n\u001b[0;32m    188\u001b[0m \u001b[39melse\u001b[39;00m:\n",
      "File \u001b[1;32mc:\\Users\\amarl\\dev\\python\\texas-hold-em\\.venv\\lib\\site-packages\\pandas\\core\\construction.py:481\u001b[0m, in \u001b[0;36mensure_wrapped_if_datetimelike\u001b[1;34m(arr)\u001b[0m\n\u001b[0;32m    476\u001b[0m         \u001b[39mreturn\u001b[39;00m obj\u001b[39m.\u001b[39mto_numpy()  \u001b[39m# type: ignore[attr-defined]\u001b[39;00m\n\u001b[0;32m    478\u001b[0m     \u001b[39mreturn\u001b[39;00m obj\n\u001b[1;32m--> 481\u001b[0m \u001b[39mdef\u001b[39;00m \u001b[39mensure_wrapped_if_datetimelike\u001b[39m(arr):\n\u001b[0;32m    482\u001b[0m \u001b[39m    \u001b[39m\u001b[39m\"\"\"\u001b[39;00m\n\u001b[0;32m    483\u001b[0m \u001b[39m    Wrap datetime64 and timedelta64 ndarrays in DatetimeArray/TimedeltaArray.\u001b[39;00m\n\u001b[0;32m    484\u001b[0m \u001b[39m    \"\"\"\u001b[39;00m\n\u001b[0;32m    485\u001b[0m     \u001b[39mif\u001b[39;00m \u001b[39misinstance\u001b[39m(arr, np\u001b[39m.\u001b[39mndarray):\n",
      "\u001b[1;31mKeyboardInterrupt\u001b[0m: "
     ]
    }
   ],
   "source": [
    "for i in range(999999):\n",
    "    game1 = game.Game(2)\n",
    "    game1.players = [player.SimplePlayer(0), player.SimplePlayer(1)]\n",
    "    game1.deal()\n",
    "    game1.get_bets()\n",
    "    game1.flop()\n",
    "    game1.get_bets()\n",
    "    game1.turn()\n",
    "    game1.get_bets()\n",
    "    game1.river()\n",
    "    game1.get_bets()\n",
    "    winners = game1.determine_round_winners()\n",
    "    df = pd.concat([df, pd.DataFrame(data={\n",
    "        \"player_1_card_1\": [game1.players[0].hand_of_two.cards[0].__str__()], \n",
    "        \"player_1_card_2\": [game1.players[0].hand_of_two.cards[1].__str__()],\n",
    "        \"player_2_card_1\": [game1.players[1].hand_of_two.cards[0].__str__()],\n",
    "        \"player_2_card_2\": [game1.players[1].hand_of_two.cards[1].__str__()],\n",
    "        \"flop_1\": [game1.community_cards[0].__str__()],\n",
    "        \"flop_2\": [game1.community_cards[1].__str__()],\n",
    "        \"flop_3\": [game1.community_cards[2].__str__()],\n",
    "        \"turn\": [game1.community_cards[3].__str__()],\n",
    "        \"river\": [game1.community_cards[4].__str__()],\n",
    "        \"winner\": [\"player_{n}\".format(n=winners[0].position + 1) if len(winners) == 1 else \"split\"]\n",
    "    })])"
   ]
  },
  {
   "cell_type": "code",
   "execution_count": null,
   "metadata": {},
   "outputs": [],
   "source": [
    "df.to_csv(\"1m_random_2player_games.csv\", index=False)"
   ]
  }
 ],
 "metadata": {
  "kernelspec": {
   "display_name": ".venv",
   "language": "python",
   "name": "python3"
  },
  "language_info": {
   "codemirror_mode": {
    "name": "ipython",
    "version": 3
   },
   "file_extension": ".py",
   "mimetype": "text/x-python",
   "name": "python",
   "nbconvert_exporter": "python",
   "pygments_lexer": "ipython3",
   "version": "3.10.6"
  },
  "orig_nbformat": 4
 },
 "nbformat": 4,
 "nbformat_minor": 2
}
